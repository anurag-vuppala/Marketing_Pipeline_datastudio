{
 "cells": [
  {
   "cell_type": "code",
   "execution_count": 188,
   "metadata": {},
   "outputs": [],
   "source": [
    "import pandas as pd"
   ]
  },
  {
   "cell_type": "code",
   "execution_count": 234,
   "metadata": {},
   "outputs": [],
   "source": [
    "spend = pd.read_csv('data/campaign_spend.csv')\n",
    "google = pd.read_csv('data/google_age.csv')\n",
    "facebook = pd.read_csv('data/facebook_age.csv')"
   ]
  },
  {
   "cell_type": "code",
   "execution_count": 235,
   "metadata": {},
   "outputs": [],
   "source": [
    "facebook.insert(2, \"platform\", \"facebook\")\n",
    "google.insert(2, \"platform\", \"google\") "
   ]
  },
  {
   "cell_type": "code",
   "execution_count": 236,
   "metadata": {},
   "outputs": [
    {
     "data": {
      "text/html": [
       "<div>\n",
       "<style scoped>\n",
       "    .dataframe tbody tr th:only-of-type {\n",
       "        vertical-align: middle;\n",
       "    }\n",
       "\n",
       "    .dataframe tbody tr th {\n",
       "        vertical-align: top;\n",
       "    }\n",
       "\n",
       "    .dataframe thead th {\n",
       "        text-align: right;\n",
       "    }\n",
       "</style>\n",
       "<table border=\"1\" class=\"dataframe\">\n",
       "  <thead>\n",
       "    <tr style=\"text-align: right;\">\n",
       "      <th></th>\n",
       "      <th>Date</th>\n",
       "      <th>CampaignID</th>\n",
       "      <th>CampaignName</th>\n",
       "      <th>AgeRange</th>\n",
       "      <th>Cost</th>\n",
       "    </tr>\n",
       "  </thead>\n",
       "  <tbody>\n",
       "    <tr>\n",
       "      <th>0</th>\n",
       "      <td>04-Aug-21</td>\n",
       "      <td>100218918</td>\n",
       "      <td>Campaign2_google</td>\n",
       "      <td>55-64</td>\n",
       "      <td>3.79</td>\n",
       "    </tr>\n",
       "    <tr>\n",
       "      <th>1</th>\n",
       "      <td>11-Aug-21</td>\n",
       "      <td>100218917</td>\n",
       "      <td>Campaign1_google</td>\n",
       "      <td>55-64</td>\n",
       "      <td>7.36</td>\n",
       "    </tr>\n",
       "    <tr>\n",
       "      <th>2</th>\n",
       "      <td>03-Aug-21</td>\n",
       "      <td>100218917</td>\n",
       "      <td>Campaign1_google</td>\n",
       "      <td>55-64</td>\n",
       "      <td>20.08</td>\n",
       "    </tr>\n",
       "    <tr>\n",
       "      <th>3</th>\n",
       "      <td>14-Aug-21</td>\n",
       "      <td>100218917</td>\n",
       "      <td>Campaign1_google</td>\n",
       "      <td>55-64</td>\n",
       "      <td>9.64</td>\n",
       "    </tr>\n",
       "    <tr>\n",
       "      <th>4</th>\n",
       "      <td>12-Aug-21</td>\n",
       "      <td>100218917</td>\n",
       "      <td>Campaign1_google</td>\n",
       "      <td>55-64</td>\n",
       "      <td>11.67</td>\n",
       "    </tr>\n",
       "  </tbody>\n",
       "</table>\n",
       "</div>"
      ],
      "text/plain": [
       "        Date  CampaignID      CampaignName AgeRange   Cost\n",
       "0  04-Aug-21   100218918  Campaign2_google    55-64   3.79\n",
       "1  11-Aug-21   100218917  Campaign1_google    55-64   7.36\n",
       "2  03-Aug-21   100218917  Campaign1_google    55-64  20.08\n",
       "3  14-Aug-21   100218917  Campaign1_google    55-64   9.64\n",
       "4  12-Aug-21   100218917  Campaign1_google    55-64  11.67"
      ]
     },
     "execution_count": 236,
     "metadata": {},
     "output_type": "execute_result"
    }
   ],
   "source": [
    "spend.head()"
   ]
  },
  {
   "cell_type": "code",
   "execution_count": 237,
   "metadata": {},
   "outputs": [],
   "source": [
    "# spend['platform'] = \n",
    "spend[['campaign_name','platform_name']] = spend['CampaignName'].str.split('_',expand=True)\n",
    "spend = spend.drop(['CampaignName'],axis=1)"
   ]
  },
  {
   "cell_type": "code",
   "execution_count": 238,
   "metadata": {},
   "outputs": [],
   "source": [
    "rep= {\n",
    "\"AGE_RANGE_18_24\":\"18-24\",\n",
    "\"AGE_RANGE_25_34\":\"25-34\",\n",
    "\"AGE_RANGE_35_44\":\"35-44\",\n",
    "\"AGE_RANGE_45_54\":\"45-54\",\n",
    "\"AGE_RANGE_55_64\":\"55-64\",\n",
    "\"AGE_RANGE_65_UP\":\"65+\"\n",
    "}\n",
    "\n",
    "spend.replace(rep,inplace=True)"
   ]
  },
  {
   "cell_type": "code",
   "execution_count": 239,
   "metadata": {},
   "outputs": [
    {
     "data": {
      "text/html": [
       "<div>\n",
       "<style scoped>\n",
       "    .dataframe tbody tr th:only-of-type {\n",
       "        vertical-align: middle;\n",
       "    }\n",
       "\n",
       "    .dataframe tbody tr th {\n",
       "        vertical-align: top;\n",
       "    }\n",
       "\n",
       "    .dataframe thead th {\n",
       "        text-align: right;\n",
       "    }\n",
       "</style>\n",
       "<table border=\"1\" class=\"dataframe\">\n",
       "  <thead>\n",
       "    <tr style=\"text-align: right;\">\n",
       "      <th></th>\n",
       "      <th>date</th>\n",
       "      <th>campaign_id</th>\n",
       "      <th>platform</th>\n",
       "      <th>Campaign_name</th>\n",
       "      <th>age_group</th>\n",
       "      <th>impressions</th>\n",
       "      <th>clicks</th>\n",
       "    </tr>\n",
       "  </thead>\n",
       "  <tbody>\n",
       "    <tr>\n",
       "      <th>0</th>\n",
       "      <td>04-Aug-21</td>\n",
       "      <td>100218918</td>\n",
       "      <td>google</td>\n",
       "      <td>Campaign2</td>\n",
       "      <td>55-64</td>\n",
       "      <td>154</td>\n",
       "      <td>2</td>\n",
       "    </tr>\n",
       "    <tr>\n",
       "      <th>1</th>\n",
       "      <td>11-Aug-21</td>\n",
       "      <td>100218917</td>\n",
       "      <td>google</td>\n",
       "      <td>Campaign1</td>\n",
       "      <td>55-64</td>\n",
       "      <td>133</td>\n",
       "      <td>0</td>\n",
       "    </tr>\n",
       "    <tr>\n",
       "      <th>2</th>\n",
       "      <td>03-Aug-21</td>\n",
       "      <td>100218917</td>\n",
       "      <td>google</td>\n",
       "      <td>Campaign1</td>\n",
       "      <td>55-64</td>\n",
       "      <td>60</td>\n",
       "      <td>1</td>\n",
       "    </tr>\n",
       "    <tr>\n",
       "      <th>3</th>\n",
       "      <td>14-Aug-21</td>\n",
       "      <td>100218917</td>\n",
       "      <td>google</td>\n",
       "      <td>Campaign1</td>\n",
       "      <td>55-64</td>\n",
       "      <td>184</td>\n",
       "      <td>39</td>\n",
       "    </tr>\n",
       "    <tr>\n",
       "      <th>4</th>\n",
       "      <td>12-Aug-21</td>\n",
       "      <td>100218917</td>\n",
       "      <td>google</td>\n",
       "      <td>Campaign1</td>\n",
       "      <td>55-64</td>\n",
       "      <td>219</td>\n",
       "      <td>7</td>\n",
       "    </tr>\n",
       "    <tr>\n",
       "      <th>...</th>\n",
       "      <td>...</td>\n",
       "      <td>...</td>\n",
       "      <td>...</td>\n",
       "      <td>...</td>\n",
       "      <td>...</td>\n",
       "      <td>...</td>\n",
       "      <td>...</td>\n",
       "    </tr>\n",
       "    <tr>\n",
       "      <th>145</th>\n",
       "      <td>08-Jul-21</td>\n",
       "      <td>100218918</td>\n",
       "      <td>google</td>\n",
       "      <td>Campaign2</td>\n",
       "      <td>25-34</td>\n",
       "      <td>95</td>\n",
       "      <td>16</td>\n",
       "    </tr>\n",
       "    <tr>\n",
       "      <th>146</th>\n",
       "      <td>13-Jul-21</td>\n",
       "      <td>100218918</td>\n",
       "      <td>google</td>\n",
       "      <td>Campaign2</td>\n",
       "      <td>18-24</td>\n",
       "      <td>178</td>\n",
       "      <td>7</td>\n",
       "    </tr>\n",
       "    <tr>\n",
       "      <th>147</th>\n",
       "      <td>07-Jul-21</td>\n",
       "      <td>100218918</td>\n",
       "      <td>google</td>\n",
       "      <td>Campaign2</td>\n",
       "      <td>18-24</td>\n",
       "      <td>200</td>\n",
       "      <td>25</td>\n",
       "    </tr>\n",
       "    <tr>\n",
       "      <th>148</th>\n",
       "      <td>11-Jul-21</td>\n",
       "      <td>100218917</td>\n",
       "      <td>google</td>\n",
       "      <td>Campaign1</td>\n",
       "      <td>18-24</td>\n",
       "      <td>165</td>\n",
       "      <td>7</td>\n",
       "    </tr>\n",
       "    <tr>\n",
       "      <th>149</th>\n",
       "      <td>20-Jul-21</td>\n",
       "      <td>100218917</td>\n",
       "      <td>google</td>\n",
       "      <td>Campaign1</td>\n",
       "      <td>25-34</td>\n",
       "      <td>112</td>\n",
       "      <td>9</td>\n",
       "    </tr>\n",
       "  </tbody>\n",
       "</table>\n",
       "<p>147 rows × 7 columns</p>\n",
       "</div>"
      ],
      "text/plain": [
       "          date  campaign_id platform Campaign_name age_group impressions  \\\n",
       "0    04-Aug-21    100218918   google     Campaign2     55-64         154   \n",
       "1    11-Aug-21    100218917   google     Campaign1     55-64         133   \n",
       "2    03-Aug-21    100218917   google     Campaign1     55-64          60   \n",
       "3    14-Aug-21    100218917   google     Campaign1     55-64         184   \n",
       "4    12-Aug-21    100218917   google     Campaign1     55-64         219   \n",
       "..         ...          ...      ...           ...       ...         ...   \n",
       "145  08-Jul-21    100218918   google     Campaign2     25-34          95   \n",
       "146  13-Jul-21    100218918   google     Campaign2     18-24         178   \n",
       "147  07-Jul-21    100218918   google     Campaign2     18-24         200   \n",
       "148  11-Jul-21    100218917   google     Campaign1     18-24         165   \n",
       "149  20-Jul-21    100218917   google     Campaign1     25-34         112   \n",
       "\n",
       "     clicks  \n",
       "0         2  \n",
       "1         0  \n",
       "2         1  \n",
       "3        39  \n",
       "4         7  \n",
       "..      ...  \n",
       "145      16  \n",
       "146       7  \n",
       "147      25  \n",
       "148       7  \n",
       "149       9  \n",
       "\n",
       "[147 rows x 7 columns]"
      ]
     },
     "execution_count": 239,
     "metadata": {},
     "output_type": "execute_result"
    }
   ],
   "source": [
    "#Clean google data set \n",
    "google.dropna()\n"
   ]
  },
  {
   "cell_type": "code",
   "execution_count": null,
   "metadata": {},
   "outputs": [],
   "source": []
  },
  {
   "cell_type": "code",
   "execution_count": 240,
   "metadata": {},
   "outputs": [
    {
     "data": {
      "text/plain": [
       "date             150\n",
       "campaign_id      150\n",
       "platform         150\n",
       "Campaign_name    150\n",
       "age_group        148\n",
       "impressions      149\n",
       "clicks           150\n",
       "dtype: int64"
      ]
     },
     "execution_count": 240,
     "metadata": {},
     "output_type": "execute_result"
    }
   ],
   "source": [
    "google.count()"
   ]
  },
  {
   "cell_type": "code",
   "execution_count": 241,
   "metadata": {},
   "outputs": [],
   "source": [
    "google.dropna(inplace=True)\n"
   ]
  },
  {
   "cell_type": "code",
   "execution_count": 242,
   "metadata": {},
   "outputs": [
    {
     "data": {
      "text/plain": [
       "array(['55-64', '25-34', '65+', '18-24', '35-44', '45-54'], dtype=object)"
      ]
     },
     "execution_count": 242,
     "metadata": {},
     "output_type": "execute_result"
    }
   ],
   "source": [
    "google.age_group.unique()"
   ]
  },
  {
   "cell_type": "code",
   "execution_count": 243,
   "metadata": {},
   "outputs": [
    {
     "data": {
      "text/plain": [
       "date             150\n",
       "campaign_id      150\n",
       "platform         150\n",
       "campaign_name    148\n",
       "age              150\n",
       "impressions      150\n",
       "clicks           148\n",
       "dtype: int64"
      ]
     },
     "execution_count": 243,
     "metadata": {},
     "output_type": "execute_result"
    }
   ],
   "source": [
    "facebook.count()\n"
   ]
  },
  {
   "cell_type": "code",
   "execution_count": 244,
   "metadata": {},
   "outputs": [],
   "source": [
    "facebook.dropna(inplace=True)"
   ]
  },
  {
   "cell_type": "code",
   "execution_count": 245,
   "metadata": {},
   "outputs": [
    {
     "data": {
      "text/plain": [
       "date             147\n",
       "campaign_id      147\n",
       "platform         147\n",
       "campaign_name    147\n",
       "age              147\n",
       "impressions      147\n",
       "clicks           147\n",
       "dtype: int64"
      ]
     },
     "execution_count": 245,
     "metadata": {},
     "output_type": "execute_result"
    }
   ],
   "source": [
    "facebook.count()"
   ]
  },
  {
   "cell_type": "code",
   "execution_count": 246,
   "metadata": {},
   "outputs": [],
   "source": [
    "facebook.replace(rep,inplace=True)"
   ]
  },
  {
   "cell_type": "code",
   "execution_count": 247,
   "metadata": {},
   "outputs": [
    {
     "data": {
      "text/plain": [
       "(Index(['date', 'campaign_id', 'platform', 'campaign_name', 'age',\n",
       "        'impressions', 'clicks'],\n",
       "       dtype='object'),\n",
       " Index(['date', 'campaign_id', 'platform', 'Campaign_name', 'age_group',\n",
       "        'impressions', 'clicks'],\n",
       "       dtype='object'))"
      ]
     },
     "execution_count": 247,
     "metadata": {},
     "output_type": "execute_result"
    }
   ],
   "source": [
    "facebook.columns,google.columns"
   ]
  },
  {
   "cell_type": "code",
   "execution_count": 248,
   "metadata": {},
   "outputs": [],
   "source": [
    "google.rename(columns={'Campaign_name':'campaign_name','age_group':'age'},inplace=True)"
   ]
  },
  {
   "cell_type": "code",
   "execution_count": 249,
   "metadata": {},
   "outputs": [],
   "source": [
    "platform = pd.concat([facebook,google])"
   ]
  },
  {
   "cell_type": "code",
   "execution_count": 250,
   "metadata": {},
   "outputs": [
    {
     "data": {
      "text/html": [
       "<div>\n",
       "<style scoped>\n",
       "    .dataframe tbody tr th:only-of-type {\n",
       "        vertical-align: middle;\n",
       "    }\n",
       "\n",
       "    .dataframe tbody tr th {\n",
       "        vertical-align: top;\n",
       "    }\n",
       "\n",
       "    .dataframe thead th {\n",
       "        text-align: right;\n",
       "    }\n",
       "</style>\n",
       "<table border=\"1\" class=\"dataframe\">\n",
       "  <thead>\n",
       "    <tr style=\"text-align: right;\">\n",
       "      <th></th>\n",
       "      <th>date</th>\n",
       "      <th>campaign_id</th>\n",
       "      <th>platform</th>\n",
       "      <th>campaign_name</th>\n",
       "      <th>age</th>\n",
       "      <th>impressions</th>\n",
       "      <th>clicks</th>\n",
       "    </tr>\n",
       "  </thead>\n",
       "  <tbody>\n",
       "    <tr>\n",
       "      <th>0</th>\n",
       "      <td>04-Aug-21</td>\n",
       "      <td>100218918</td>\n",
       "      <td>facebook</td>\n",
       "      <td>Campaign2</td>\n",
       "      <td>25-34</td>\n",
       "      <td>158</td>\n",
       "      <td>14.0</td>\n",
       "    </tr>\n",
       "    <tr>\n",
       "      <th>1</th>\n",
       "      <td>11-Aug-21</td>\n",
       "      <td>100218917</td>\n",
       "      <td>facebook</td>\n",
       "      <td>Campaign1</td>\n",
       "      <td>55-64</td>\n",
       "      <td>163</td>\n",
       "      <td>7.0</td>\n",
       "    </tr>\n",
       "    <tr>\n",
       "      <th>2</th>\n",
       "      <td>03-Aug-21</td>\n",
       "      <td>100218917</td>\n",
       "      <td>facebook</td>\n",
       "      <td>Campaign1</td>\n",
       "      <td>25-34</td>\n",
       "      <td>126</td>\n",
       "      <td>9.0</td>\n",
       "    </tr>\n",
       "    <tr>\n",
       "      <th>3</th>\n",
       "      <td>14-Aug-21</td>\n",
       "      <td>100218917</td>\n",
       "      <td>facebook</td>\n",
       "      <td>Campaign1</td>\n",
       "      <td>18-24</td>\n",
       "      <td>753</td>\n",
       "      <td>10.0</td>\n",
       "    </tr>\n",
       "    <tr>\n",
       "      <th>4</th>\n",
       "      <td>12-Aug-21</td>\n",
       "      <td>100218917</td>\n",
       "      <td>facebook</td>\n",
       "      <td>Campaign1</td>\n",
       "      <td>25-34</td>\n",
       "      <td>125</td>\n",
       "      <td>11.0</td>\n",
       "    </tr>\n",
       "    <tr>\n",
       "      <th>...</th>\n",
       "      <td>...</td>\n",
       "      <td>...</td>\n",
       "      <td>...</td>\n",
       "      <td>...</td>\n",
       "      <td>...</td>\n",
       "      <td>...</td>\n",
       "      <td>...</td>\n",
       "    </tr>\n",
       "    <tr>\n",
       "      <th>145</th>\n",
       "      <td>08-Jul-21</td>\n",
       "      <td>100218918</td>\n",
       "      <td>google</td>\n",
       "      <td>Campaign2</td>\n",
       "      <td>25-34</td>\n",
       "      <td>95</td>\n",
       "      <td>16.0</td>\n",
       "    </tr>\n",
       "    <tr>\n",
       "      <th>146</th>\n",
       "      <td>13-Jul-21</td>\n",
       "      <td>100218918</td>\n",
       "      <td>google</td>\n",
       "      <td>Campaign2</td>\n",
       "      <td>18-24</td>\n",
       "      <td>178</td>\n",
       "      <td>7.0</td>\n",
       "    </tr>\n",
       "    <tr>\n",
       "      <th>147</th>\n",
       "      <td>07-Jul-21</td>\n",
       "      <td>100218918</td>\n",
       "      <td>google</td>\n",
       "      <td>Campaign2</td>\n",
       "      <td>18-24</td>\n",
       "      <td>200</td>\n",
       "      <td>25.0</td>\n",
       "    </tr>\n",
       "    <tr>\n",
       "      <th>148</th>\n",
       "      <td>11-Jul-21</td>\n",
       "      <td>100218917</td>\n",
       "      <td>google</td>\n",
       "      <td>Campaign1</td>\n",
       "      <td>18-24</td>\n",
       "      <td>165</td>\n",
       "      <td>7.0</td>\n",
       "    </tr>\n",
       "    <tr>\n",
       "      <th>149</th>\n",
       "      <td>20-Jul-21</td>\n",
       "      <td>100218917</td>\n",
       "      <td>google</td>\n",
       "      <td>Campaign1</td>\n",
       "      <td>25-34</td>\n",
       "      <td>112</td>\n",
       "      <td>9.0</td>\n",
       "    </tr>\n",
       "  </tbody>\n",
       "</table>\n",
       "<p>294 rows × 7 columns</p>\n",
       "</div>"
      ],
      "text/plain": [
       "          date  campaign_id  platform campaign_name    age impressions  clicks\n",
       "0    04-Aug-21    100218918  facebook     Campaign2  25-34         158    14.0\n",
       "1    11-Aug-21    100218917  facebook     Campaign1  55-64         163     7.0\n",
       "2    03-Aug-21    100218917  facebook     Campaign1  25-34         126     9.0\n",
       "3    14-Aug-21    100218917  facebook     Campaign1  18-24         753    10.0\n",
       "4    12-Aug-21    100218917  facebook     Campaign1  25-34         125    11.0\n",
       "..         ...          ...       ...           ...    ...         ...     ...\n",
       "145  08-Jul-21    100218918    google     Campaign2  25-34          95    16.0\n",
       "146  13-Jul-21    100218918    google     Campaign2  18-24         178     7.0\n",
       "147  07-Jul-21    100218918    google     Campaign2  18-24         200    25.0\n",
       "148  11-Jul-21    100218917    google     Campaign1  18-24         165     7.0\n",
       "149  20-Jul-21    100218917    google     Campaign1  25-34         112     9.0\n",
       "\n",
       "[294 rows x 7 columns]"
      ]
     },
     "execution_count": 250,
     "metadata": {},
     "output_type": "execute_result"
    }
   ],
   "source": [
    "platform.dropna()"
   ]
  },
  {
   "cell_type": "code",
   "execution_count": 251,
   "metadata": {},
   "outputs": [
    {
     "data": {
      "text/html": [
       "<div>\n",
       "<style scoped>\n",
       "    .dataframe tbody tr th:only-of-type {\n",
       "        vertical-align: middle;\n",
       "    }\n",
       "\n",
       "    .dataframe tbody tr th {\n",
       "        vertical-align: top;\n",
       "    }\n",
       "\n",
       "    .dataframe thead th {\n",
       "        text-align: right;\n",
       "    }\n",
       "</style>\n",
       "<table border=\"1\" class=\"dataframe\">\n",
       "  <thead>\n",
       "    <tr style=\"text-align: right;\">\n",
       "      <th></th>\n",
       "      <th>Date</th>\n",
       "      <th>CampaignID</th>\n",
       "      <th>AgeRange</th>\n",
       "      <th>Cost</th>\n",
       "      <th>campaign_name</th>\n",
       "      <th>platform_name</th>\n",
       "    </tr>\n",
       "  </thead>\n",
       "  <tbody>\n",
       "    <tr>\n",
       "      <th>0</th>\n",
       "      <td>04-Aug-21</td>\n",
       "      <td>100218918</td>\n",
       "      <td>55-64</td>\n",
       "      <td>3.79</td>\n",
       "      <td>Campaign2</td>\n",
       "      <td>google</td>\n",
       "    </tr>\n",
       "    <tr>\n",
       "      <th>1</th>\n",
       "      <td>11-Aug-21</td>\n",
       "      <td>100218917</td>\n",
       "      <td>55-64</td>\n",
       "      <td>7.36</td>\n",
       "      <td>Campaign1</td>\n",
       "      <td>google</td>\n",
       "    </tr>\n",
       "    <tr>\n",
       "      <th>2</th>\n",
       "      <td>03-Aug-21</td>\n",
       "      <td>100218917</td>\n",
       "      <td>55-64</td>\n",
       "      <td>20.08</td>\n",
       "      <td>Campaign1</td>\n",
       "      <td>google</td>\n",
       "    </tr>\n",
       "    <tr>\n",
       "      <th>3</th>\n",
       "      <td>14-Aug-21</td>\n",
       "      <td>100218917</td>\n",
       "      <td>55-64</td>\n",
       "      <td>9.64</td>\n",
       "      <td>Campaign1</td>\n",
       "      <td>google</td>\n",
       "    </tr>\n",
       "    <tr>\n",
       "      <th>4</th>\n",
       "      <td>12-Aug-21</td>\n",
       "      <td>100218917</td>\n",
       "      <td>55-64</td>\n",
       "      <td>11.67</td>\n",
       "      <td>Campaign1</td>\n",
       "      <td>google</td>\n",
       "    </tr>\n",
       "    <tr>\n",
       "      <th>...</th>\n",
       "      <td>...</td>\n",
       "      <td>...</td>\n",
       "      <td>...</td>\n",
       "      <td>...</td>\n",
       "      <td>...</td>\n",
       "      <td>...</td>\n",
       "    </tr>\n",
       "    <tr>\n",
       "      <th>295</th>\n",
       "      <td>08-Jul-21</td>\n",
       "      <td>100218918</td>\n",
       "      <td>25-34</td>\n",
       "      <td>$3.00</td>\n",
       "      <td>Campaign2</td>\n",
       "      <td>facebook</td>\n",
       "    </tr>\n",
       "    <tr>\n",
       "      <th>296</th>\n",
       "      <td>13-Jul-21</td>\n",
       "      <td>100218918</td>\n",
       "      <td>45-54</td>\n",
       "      <td>$5.50</td>\n",
       "      <td>Campaign2</td>\n",
       "      <td>facebook</td>\n",
       "    </tr>\n",
       "    <tr>\n",
       "      <th>297</th>\n",
       "      <td>07-Jul-21</td>\n",
       "      <td>100218918</td>\n",
       "      <td>65+</td>\n",
       "      <td>$1.20</td>\n",
       "      <td>Campaign2</td>\n",
       "      <td>facebook</td>\n",
       "    </tr>\n",
       "    <tr>\n",
       "      <th>298</th>\n",
       "      <td>11-Jul-21</td>\n",
       "      <td>100218917</td>\n",
       "      <td>18-24</td>\n",
       "      <td>$7.00</td>\n",
       "      <td>Campaign1</td>\n",
       "      <td>facebook</td>\n",
       "    </tr>\n",
       "    <tr>\n",
       "      <th>299</th>\n",
       "      <td>20-Jul-21</td>\n",
       "      <td>100218917</td>\n",
       "      <td>35-44</td>\n",
       "      <td>$14.07</td>\n",
       "      <td>Campaign1</td>\n",
       "      <td>facebook</td>\n",
       "    </tr>\n",
       "  </tbody>\n",
       "</table>\n",
       "<p>300 rows × 6 columns</p>\n",
       "</div>"
      ],
      "text/plain": [
       "          Date  CampaignID AgeRange    Cost campaign_name platform_name\n",
       "0    04-Aug-21   100218918    55-64    3.79     Campaign2        google\n",
       "1    11-Aug-21   100218917    55-64    7.36     Campaign1        google\n",
       "2    03-Aug-21   100218917    55-64   20.08     Campaign1        google\n",
       "3    14-Aug-21   100218917    55-64    9.64     Campaign1        google\n",
       "4    12-Aug-21   100218917    55-64   11.67     Campaign1        google\n",
       "..         ...         ...      ...     ...           ...           ...\n",
       "295  08-Jul-21   100218918    25-34   $3.00     Campaign2      facebook\n",
       "296  13-Jul-21   100218918    45-54   $5.50     Campaign2      facebook\n",
       "297  07-Jul-21   100218918      65+   $1.20     Campaign2      facebook\n",
       "298  11-Jul-21   100218917    18-24   $7.00     Campaign1      facebook\n",
       "299  20-Jul-21   100218917    35-44  $14.07     Campaign1      facebook\n",
       "\n",
       "[300 rows x 6 columns]"
      ]
     },
     "execution_count": 251,
     "metadata": {},
     "output_type": "execute_result"
    }
   ],
   "source": [
    "spend"
   ]
  },
  {
   "cell_type": "code",
   "execution_count": 252,
   "metadata": {},
   "outputs": [
    {
     "data": {
      "text/plain": [
       "(Index(['Date', 'CampaignID', 'AgeRange', 'Cost', 'campaign_name',\n",
       "        'platform_name'],\n",
       "       dtype='object'),\n",
       " Index(['date', 'campaign_id', 'platform', 'campaign_name', 'age',\n",
       "        'impressions', 'clicks'],\n",
       "       dtype='object'))"
      ]
     },
     "execution_count": 252,
     "metadata": {},
     "output_type": "execute_result"
    }
   ],
   "source": [
    "spend.columns,platform.columns\n"
   ]
  },
  {
   "cell_type": "code",
   "execution_count": 253,
   "metadata": {},
   "outputs": [],
   "source": [
    "spend.rename(columns={'Date':'date','CampaignID':'campaign_id','AgeRange':'age','platform_name':'platform'},inplace=True)"
   ]
  },
  {
   "cell_type": "code",
   "execution_count": 254,
   "metadata": {},
   "outputs": [],
   "source": [
    "spend.dropna(inplace=True)"
   ]
  },
  {
   "cell_type": "code",
   "execution_count": 255,
   "metadata": {},
   "outputs": [
    {
     "data": {
      "text/plain": [
       "array(['55-64', '25-34', '65+', '18-24', '35-44', '45-54',\n",
       "       'AGE_RANGE_UNDETERMINED'], dtype=object)"
      ]
     },
     "execution_count": 255,
     "metadata": {},
     "output_type": "execute_result"
    }
   ],
   "source": [
    "spend.age.unique()"
   ]
  },
  {
   "cell_type": "code",
   "execution_count": 256,
   "metadata": {},
   "outputs": [],
   "source": [
    "spend = spend[spend.age != 'AGE_RANGE_UNDETERMINED']"
   ]
  },
  {
   "cell_type": "code",
   "execution_count": 257,
   "metadata": {},
   "outputs": [
    {
     "data": {
      "text/plain": [
       "(date             297\n",
       " campaign_id      297\n",
       " age              297\n",
       " Cost             297\n",
       " campaign_name    297\n",
       " platform         297\n",
       " dtype: int64,\n",
       " date             294\n",
       " campaign_id      294\n",
       " platform         294\n",
       " campaign_name    294\n",
       " age              294\n",
       " impressions      294\n",
       " clicks           294\n",
       " dtype: int64)"
      ]
     },
     "execution_count": 257,
     "metadata": {},
     "output_type": "execute_result"
    }
   ],
   "source": [
    "spend.count(),platform.count()"
   ]
  },
  {
   "cell_type": "code",
   "execution_count": 258,
   "metadata": {},
   "outputs": [],
   "source": [
    "platform = platform[platform.age != 'AGE_RANGE_UNDETERMINED']"
   ]
  },
  {
   "cell_type": "code",
   "execution_count": 259,
   "metadata": {},
   "outputs": [
    {
     "data": {
      "text/plain": [
       "(          date  campaign_id    age    Cost campaign_name  platform\n",
       " 0    04-Aug-21    100218918  55-64    3.79     Campaign2    google\n",
       " 1    11-Aug-21    100218917  55-64    7.36     Campaign1    google\n",
       " 2    03-Aug-21    100218917  55-64   20.08     Campaign1    google\n",
       " 3    14-Aug-21    100218917  55-64    9.64     Campaign1    google\n",
       " 4    12-Aug-21    100218917  55-64   11.67     Campaign1    google\n",
       " ..         ...          ...    ...     ...           ...       ...\n",
       " 295  08-Jul-21    100218918  25-34   $3.00     Campaign2  facebook\n",
       " 296  13-Jul-21    100218918  45-54   $5.50     Campaign2  facebook\n",
       " 297  07-Jul-21    100218918    65+   $1.20     Campaign2  facebook\n",
       " 298  11-Jul-21    100218917  18-24   $7.00     Campaign1  facebook\n",
       " 299  20-Jul-21    100218917  35-44  $14.07     Campaign1  facebook\n",
       " \n",
       " [297 rows x 6 columns],\n",
       "           date  campaign_id  platform campaign_name    age impressions  clicks\n",
       " 0    04-Aug-21    100218918  facebook     Campaign2  25-34         158    14.0\n",
       " 1    11-Aug-21    100218917  facebook     Campaign1  55-64         163     7.0\n",
       " 2    03-Aug-21    100218917  facebook     Campaign1  25-34         126     9.0\n",
       " 3    14-Aug-21    100218917  facebook     Campaign1  18-24         753    10.0\n",
       " 4    12-Aug-21    100218917  facebook     Campaign1  25-34         125    11.0\n",
       " ..         ...          ...       ...           ...    ...         ...     ...\n",
       " 145  08-Jul-21    100218918    google     Campaign2  25-34          95    16.0\n",
       " 146  13-Jul-21    100218918    google     Campaign2  18-24         178     7.0\n",
       " 147  07-Jul-21    100218918    google     Campaign2  18-24         200    25.0\n",
       " 148  11-Jul-21    100218917    google     Campaign1  18-24         165     7.0\n",
       " 149  20-Jul-21    100218917    google     Campaign1  25-34         112     9.0\n",
       " \n",
       " [293 rows x 7 columns])"
      ]
     },
     "execution_count": 259,
     "metadata": {},
     "output_type": "execute_result"
    }
   ],
   "source": [
    "spend.drop_duplicates(),platform.drop_duplicates()"
   ]
  },
  {
   "cell_type": "code",
   "execution_count": 260,
   "metadata": {},
   "outputs": [
    {
     "data": {
      "text/plain": [
       "(date             107\n",
       " campaign_id        2\n",
       " age                6\n",
       " Cost             283\n",
       " campaign_name      2\n",
       " platform           2\n",
       " dtype: int64,\n",
       " date             107\n",
       " campaign_id        2\n",
       " platform           2\n",
       " campaign_name      2\n",
       " age                6\n",
       " impressions      187\n",
       " clicks            51\n",
       " dtype: int64)"
      ]
     },
     "execution_count": 260,
     "metadata": {},
     "output_type": "execute_result"
    }
   ],
   "source": [
    "spend.nunique(),platform.nunique()"
   ]
  },
  {
   "cell_type": "code",
   "execution_count": 261,
   "metadata": {},
   "outputs": [
    {
     "data": {
      "text/plain": [
       "(date             object\n",
       " campaign_id       int64\n",
       " age              object\n",
       " Cost             object\n",
       " campaign_name    object\n",
       " platform         object\n",
       " dtype: object,\n",
       " date              object\n",
       " campaign_id        int64\n",
       " platform          object\n",
       " campaign_name     object\n",
       " age               object\n",
       " impressions       object\n",
       " clicks           float64\n",
       " dtype: object)"
      ]
     },
     "execution_count": 261,
     "metadata": {},
     "output_type": "execute_result"
    }
   ],
   "source": [
    "spend.dtypes,platform.dtypes"
   ]
  },
  {
   "cell_type": "code",
   "execution_count": 326,
   "metadata": {},
   "outputs": [],
   "source": [
    "j= ['date','campaign_id', 'platform', 'campaign_name', 'age']\n",
    "final_data = pd.merge(spend,platform, how=\"outer\", on=j)"
   ]
  },
  {
   "cell_type": "code",
   "execution_count": 327,
   "metadata": {},
   "outputs": [
    {
     "data": {
      "text/plain": [
       "<bound method DataFrame.drop_duplicates of           date  campaign_id    age    Cost campaign_name  platform  \\\n",
       "0    04-Aug-21    100218918  55-64    3.79     Campaign2    google   \n",
       "1    11-Aug-21    100218917  55-64    7.36     Campaign1    google   \n",
       "2    03-Aug-21    100218917  55-64   20.08     Campaign1    google   \n",
       "3    14-Aug-21    100218917  55-64    9.64     Campaign1    google   \n",
       "4    12-Aug-21    100218917  55-64   11.67     Campaign1    google   \n",
       "..         ...          ...    ...     ...           ...       ...   \n",
       "308  09-Jul-21    100218918  18-24   $3.50     Campaign2  facebook   \n",
       "309  13-Jul-21    100218918  45-54   $5.50     Campaign2  facebook   \n",
       "310  07-Jul-21    100218918    65+   $1.20     Campaign2  facebook   \n",
       "311  11-Jul-21    100218917  18-24   $7.00     Campaign1  facebook   \n",
       "312  20-Jul-21    100218917  35-44  $14.07     Campaign1  facebook   \n",
       "\n",
       "    impressions  clicks  \n",
       "0           154     2.0  \n",
       "1           133     0.0  \n",
       "2            60     1.0  \n",
       "3           184    39.0  \n",
       "4           219     7.0  \n",
       "..          ...     ...  \n",
       "308         121     7.0  \n",
       "309         154    16.0  \n",
       "310         133    98.0  \n",
       "311          60    40.0  \n",
       "312         184    11.0  \n",
       "\n",
       "[313 rows x 8 columns]>"
      ]
     },
     "execution_count": 327,
     "metadata": {},
     "output_type": "execute_result"
    }
   ],
   "source": [
    "final_data.drop_duplicates"
   ]
  },
  {
   "cell_type": "code",
   "execution_count": 332,
   "metadata": {},
   "outputs": [
    {
     "name": "stderr",
     "output_type": "stream",
     "text": [
      "/var/folders/d8/qtl1395d2898hys1hbkj3tc80000gn/T/ipykernel_1475/663243060.py:1: FutureWarning: The default value of regex will change from True to False in a future version. In addition, single character regular expressions will *not* be treated as literal strings when regex=True.\n",
      "  final_data['Cost'] = final_data['Cost'].str.replace(',', '').str.replace('$', '')\n"
     ]
    }
   ],
   "source": [
    "final_data['Cost'] = final_data['Cost'].str.replace(',', '').str.replace('$', '')\n",
    "final_data.replace(',','', regex=True, inplace=True)\n",
    "# final_data['clicks'] = final_data['clicks'].str.replace(',', '').astype(int)\n",
    "# final_data['impressions'] = final_data['impressions'].str.replace(',', '').astype(int)"
   ]
  },
  {
   "cell_type": "code",
   "execution_count": 321,
   "metadata": {},
   "outputs": [],
   "source": [
    "final_data.to_csv('cleaned_dataset/clean_campaign_data.csv',header=True)"
   ]
  },
  {
   "cell_type": "markdown",
   "metadata": {},
   "source": [
    "Which Campaign gained the highest clicks?\n"
   ]
  },
  {
   "cell_type": "code",
   "execution_count": 302,
   "metadata": {},
   "outputs": [],
   "source": [
    "c1 = final_data[final_data.campaign_name == 'Campaign1']\n",
    "c2 = final_data[final_data.campaign_name == 'Campaign2']"
   ]
  },
  {
   "cell_type": "code",
   "execution_count": 303,
   "metadata": {},
   "outputs": [
    {
     "name": "stdout",
     "output_type": "stream",
     "text": [
      "Campaign 1 gains the highest number of clicks with :2819.0\n"
     ]
    }
   ],
   "source": [
    "cs1 = c1.clicks.sum()\n",
    "cs2 = c2.clicks.sum()\n",
    "if cs1 > cs2:\n",
    "    print(f'Campaign 1 gains the highest number of clicks with :{cs1}')\n",
    "else:\n",
    "    print(f'Campaign 2 gains the highest number of clicks with :{cs2}')"
   ]
  },
  {
   "cell_type": "markdown",
   "metadata": {},
   "source": [
    "Which platform cost the most?"
   ]
  },
  {
   "cell_type": "code",
   "execution_count": 306,
   "metadata": {},
   "outputs": [],
   "source": [
    "p1 = final_data[final_data.platform == 'google']\n",
    "p2 = final_data[final_data.platform == 'facebook']"
   ]
  },
  {
   "cell_type": "code",
   "execution_count": 313,
   "metadata": {},
   "outputs": [
    {
     "data": {
      "text/plain": [
       "'3.797.3620.089.6411.6742.679.6510.6446.58.9610.5344.696.2910.8149.7912.6252.586.5211.1554.282.6710.8345.815.91.7710.9754.715.482.0311.0554.894.7410.8750.35.4210.6451.034.0611.2850.354.1612.4251.231.380.619.429.421.521.5236.85.082.2211.9750.293.383.382.332.333.872.992.992.172.173.531.1144.411.024.914.872.795.543.533.591.395.792.843.733.482.441.194.812.17.244.392.73.63.70.113.464.020.432.151.023.110.972.462.351.971.625.223.834.053.124.153.873.664.724.181.456.683.157.272.597.2439.552.3418.36.478.3739.621.560.31.681.159.0445.322.441.487.929.0346.757.0647.331.4741.832.010.812.641.173.744.672.816.675.377.024.229.874.44.13.963.871.971.02'"
      ]
     },
     "execution_count": 313,
     "metadata": {},
     "output_type": "execute_result"
    }
   ],
   "source": [
    "p1.Cost.sum()"
   ]
  },
  {
   "cell_type": "code",
   "execution_count": 317,
   "metadata": {},
   "outputs": [
    {
     "data": {
      "text/plain": [
       "2805.0"
      ]
     },
     "execution_count": 317,
     "metadata": {},
     "output_type": "execute_result"
    }
   ],
   "source": [
    "p2.Cost.sum()"
   ]
  },
  {
   "cell_type": "code",
   "execution_count": 320,
   "metadata": {},
   "outputs": [
    {
     "data": {
      "text/plain": [
       "0       2.0\n",
       "1       0.0\n",
       "2       1.0\n",
       "3      39.0\n",
       "4       7.0\n",
       "       ... \n",
       "308     7.0\n",
       "309    16.0\n",
       "310    98.0\n",
       "311    40.0\n",
       "312    11.0\n",
       "Name: clicks, Length: 313, dtype: float64"
      ]
     },
     "execution_count": 320,
     "metadata": {},
     "output_type": "execute_result"
    }
   ],
   "source": [
    "final_data.clicks"
   ]
  },
  {
   "cell_type": "code",
   "execution_count": null,
   "metadata": {},
   "outputs": [],
   "source": []
  }
 ],
 "metadata": {
  "interpreter": {
   "hash": "3d597f4c481aa0f25dceb95d2a0067e73c0966dcbd003d741d821a7208527ecf"
  },
  "kernelspec": {
   "display_name": "Python 3.9.7 ('base')",
   "language": "python",
   "name": "python3"
  },
  "language_info": {
   "codemirror_mode": {
    "name": "ipython",
    "version": 3
   },
   "file_extension": ".py",
   "mimetype": "text/x-python",
   "name": "python",
   "nbconvert_exporter": "python",
   "pygments_lexer": "ipython3",
   "version": "3.9.7"
  },
  "orig_nbformat": 4
 },
 "nbformat": 4,
 "nbformat_minor": 2
}
