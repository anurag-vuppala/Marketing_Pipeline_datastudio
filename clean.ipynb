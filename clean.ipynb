{
 "cells": [
  {
   "cell_type": "code",
   "execution_count": 7,
   "metadata": {},
   "outputs": [],
   "source": [
    "import pandas as pd"
   ]
  },
  {
   "cell_type": "markdown",
   "metadata": {},
   "source": [
    "Convert CSV to Pandas.DataFrame\n"
   ]
  },
  {
   "cell_type": "code",
   "execution_count": 25,
   "metadata": {},
   "outputs": [],
   "source": [
    "spend = pd.read_csv('data/campaign_spend.csv')\n",
    "google = pd.read_csv('data/google_age.csv')\n",
    "facebook = pd.read_csv('data/facebook_age.csv')"
   ]
  },
  {
   "cell_type": "code",
   "execution_count": 26,
   "metadata": {},
   "outputs": [],
   "source": [
    "rep= {\n",
    "\"AGE_RANGE_18_24\":\"18-24\",\n",
    "\"AGE_RANGE_25_34\":\"25-34\",\n",
    "\"AGE_RANGE_35_44\":\"35-44\",\n",
    "\"AGE_RANGE_45_54\":\"45-54\",\n",
    "\"AGE_RANGE_55_64\":\"55-64\",\n",
    "\"AGE_RANGE_65_UP\":\"65+\"\n",
    "}\n",
    "\n"
   ]
  },
  {
   "cell_type": "markdown",
   "metadata": {},
   "source": [
    "Step 1- Clean Facebook Dataset "
   ]
  },
  {
   "cell_type": "code",
   "execution_count": 27,
   "metadata": {},
   "outputs": [],
   "source": [
    "facebook.insert(2, \"platform\", \"facebook\")\n",
    "facebook.dropna(inplace=True)\n",
    "facebook.replace(rep,inplace=True)\n"
   ]
  },
  {
   "cell_type": "markdown",
   "metadata": {},
   "source": [
    "Step 2- Clean Google Dataset "
   ]
  },
  {
   "cell_type": "code",
   "execution_count": 28,
   "metadata": {},
   "outputs": [],
   "source": [
    "google.insert(2, \"platform\", \"google\") \n",
    "google.dropna(inplace=True)\n",
    "google.rename(columns={'Campaign_name':'campaign_name','age_group':'age'},inplace=True)\n"
   ]
  },
  {
   "cell_type": "markdown",
   "metadata": {},
   "source": [
    "Step 3:- Cleaning and transformting Campaign_spend Dataset."
   ]
  },
  {
   "cell_type": "code",
   "execution_count": 29,
   "metadata": {},
   "outputs": [
    {
     "data": {
      "text/html": [
       "<div>\n",
       "<style scoped>\n",
       "    .dataframe tbody tr th:only-of-type {\n",
       "        vertical-align: middle;\n",
       "    }\n",
       "\n",
       "    .dataframe tbody tr th {\n",
       "        vertical-align: top;\n",
       "    }\n",
       "\n",
       "    .dataframe thead th {\n",
       "        text-align: right;\n",
       "    }\n",
       "</style>\n",
       "<table border=\"1\" class=\"dataframe\">\n",
       "  <thead>\n",
       "    <tr style=\"text-align: right;\">\n",
       "      <th></th>\n",
       "      <th>Date</th>\n",
       "      <th>CampaignID</th>\n",
       "      <th>CampaignName</th>\n",
       "      <th>AgeRange</th>\n",
       "      <th>Cost</th>\n",
       "    </tr>\n",
       "  </thead>\n",
       "  <tbody>\n",
       "    <tr>\n",
       "      <th>0</th>\n",
       "      <td>04-Aug-21</td>\n",
       "      <td>100218918</td>\n",
       "      <td>Campaign2_google</td>\n",
       "      <td>55-64</td>\n",
       "      <td>3.79</td>\n",
       "    </tr>\n",
       "    <tr>\n",
       "      <th>1</th>\n",
       "      <td>11-Aug-21</td>\n",
       "      <td>100218917</td>\n",
       "      <td>Campaign1_google</td>\n",
       "      <td>55-64</td>\n",
       "      <td>7.36</td>\n",
       "    </tr>\n",
       "    <tr>\n",
       "      <th>2</th>\n",
       "      <td>03-Aug-21</td>\n",
       "      <td>100218917</td>\n",
       "      <td>Campaign1_google</td>\n",
       "      <td>55-64</td>\n",
       "      <td>20.08</td>\n",
       "    </tr>\n",
       "    <tr>\n",
       "      <th>3</th>\n",
       "      <td>14-Aug-21</td>\n",
       "      <td>100218917</td>\n",
       "      <td>Campaign1_google</td>\n",
       "      <td>55-64</td>\n",
       "      <td>9.64</td>\n",
       "    </tr>\n",
       "    <tr>\n",
       "      <th>4</th>\n",
       "      <td>12-Aug-21</td>\n",
       "      <td>100218917</td>\n",
       "      <td>Campaign1_google</td>\n",
       "      <td>55-64</td>\n",
       "      <td>11.67</td>\n",
       "    </tr>\n",
       "  </tbody>\n",
       "</table>\n",
       "</div>"
      ],
      "text/plain": [
       "        Date  CampaignID      CampaignName AgeRange   Cost\n",
       "0  04-Aug-21   100218918  Campaign2_google    55-64   3.79\n",
       "1  11-Aug-21   100218917  Campaign1_google    55-64   7.36\n",
       "2  03-Aug-21   100218917  Campaign1_google    55-64  20.08\n",
       "3  14-Aug-21   100218917  Campaign1_google    55-64   9.64\n",
       "4  12-Aug-21   100218917  Campaign1_google    55-64  11.67"
      ]
     },
     "execution_count": 29,
     "metadata": {},
     "output_type": "execute_result"
    }
   ],
   "source": [
    "spend.head()"
   ]
  },
  {
   "cell_type": "code",
   "execution_count": 30,
   "metadata": {},
   "outputs": [],
   "source": [
    "\n",
    "spend[['campaign_name','platform_name']] = spend['CampaignName'].str.split('_',expand=True)\n",
    "spend = spend.drop(['CampaignName'],axis=1)\n",
    "spend.replace(rep,inplace=True)\n",
    "spend.rename(columns={'Date':'date','CampaignID':'campaign_id','AgeRange':'age','platform_name':'platform'},inplace=True)\n",
    "spend.dropna(inplace=True)\n",
    "spend.age.unique()\n",
    "spend = spend[spend.age != 'AGE_RANGE_UNDETERMINED']"
   ]
  },
  {
   "cell_type": "markdown",
   "metadata": {},
   "source": [
    "Joining Facebook And Google data set on similar columns "
   ]
  },
  {
   "cell_type": "code",
   "execution_count": 31,
   "metadata": {},
   "outputs": [],
   "source": [
    "platform = pd.concat([facebook,google])\n",
    "platform.dropna()\n",
    "platform.drop_duplicates()\n",
    "platform = platform[platform.age != 'AGE_RANGE_UNDETERMINED']\n"
   ]
  },
  {
   "cell_type": "code",
   "execution_count": 32,
   "metadata": {},
   "outputs": [
    {
     "data": {
      "text/plain": [
       "date             107\n",
       "campaign_id        2\n",
       "platform           2\n",
       "campaign_name      2\n",
       "age                6\n",
       "impressions      187\n",
       "clicks            51\n",
       "dtype: int64"
      ]
     },
     "execution_count": 32,
     "metadata": {},
     "output_type": "execute_result"
    }
   ],
   "source": [
    "platform.nunique()"
   ]
  },
  {
   "cell_type": "markdown",
   "metadata": {},
   "source": [
    "Now joining campaign dataset with Platform dataset on similar attributes- \n",
    "[date ,\n",
    "campaign_id,\n",
    "platform,\n",
    "campaign_name\n",
    "age\n",
    "]"
   ]
  },
  {
   "cell_type": "code",
   "execution_count": 33,
   "metadata": {},
   "outputs": [
    {
     "data": {
      "text/plain": [
       "(Index(['date', 'campaign_id', 'age', 'Cost', 'campaign_name', 'platform'], dtype='object'),\n",
       " Index(['date', 'campaign_id', 'platform', 'campaign_name', 'age',\n",
       "        'impressions', 'clicks'],\n",
       "       dtype='object'))"
      ]
     },
     "execution_count": 33,
     "metadata": {},
     "output_type": "execute_result"
    }
   ],
   "source": [
    "spend.columns,platform.columns"
   ]
  },
  {
   "cell_type": "code",
   "execution_count": 103,
   "metadata": {},
   "outputs": [
    {
     "data": {
      "text/plain": [
       "<bound method DataFrame.drop_duplicates of           date  campaign_id    age    Cost campaign_name  platform  \\\n",
       "0    04-Aug-21    100218918  55-64    3.79     Campaign2    google   \n",
       "1    11-Aug-21    100218917  55-64    7.36     Campaign1    google   \n",
       "2    03-Aug-21    100218917  55-64   20.08     Campaign1    google   \n",
       "3    14-Aug-21    100218917  55-64    9.64     Campaign1    google   \n",
       "4    12-Aug-21    100218917  55-64   11.67     Campaign1    google   \n",
       "..         ...          ...    ...     ...           ...       ...   \n",
       "308  09-Jul-21    100218918  18-24   $3.50     Campaign2  facebook   \n",
       "309  13-Jul-21    100218918  45-54   $5.50     Campaign2  facebook   \n",
       "310  07-Jul-21    100218918    65+   $1.20     Campaign2  facebook   \n",
       "311  11-Jul-21    100218917  18-24   $7.00     Campaign1  facebook   \n",
       "312  20-Jul-21    100218917  35-44  $14.07     Campaign1  facebook   \n",
       "\n",
       "    impressions  clicks  \n",
       "0           154     2.0  \n",
       "1           133     0.0  \n",
       "2            60     1.0  \n",
       "3           184    39.0  \n",
       "4           219     7.0  \n",
       "..          ...     ...  \n",
       "308         121     7.0  \n",
       "309         154    16.0  \n",
       "310         133    98.0  \n",
       "311          60    40.0  \n",
       "312         184    11.0  \n",
       "\n",
       "[313 rows x 8 columns]>"
      ]
     },
     "execution_count": 103,
     "metadata": {},
     "output_type": "execute_result"
    }
   ],
   "source": [
    "j= ['date','campaign_id', 'platform', 'campaign_name', 'age']\n",
    "final_data = pd.merge(spend,platform, how=\"outer\", on=j)\n",
    "final_data.drop_duplicates"
   ]
  },
  {
   "cell_type": "markdown",
   "metadata": {},
   "source": [
    "Removing symbols from values(like $ in Cost) and duplicates row"
   ]
  },
  {
   "cell_type": "code",
   "execution_count": 104,
   "metadata": {},
   "outputs": [
    {
     "data": {
      "text/plain": [
       "<bound method DataFrame.drop_duplicates of           date  campaign_id    age    Cost campaign_name  platform  \\\n",
       "0    04-Aug-21    100218918  55-64    3.79     Campaign2    google   \n",
       "1    11-Aug-21    100218917  55-64    7.36     Campaign1    google   \n",
       "2    03-Aug-21    100218917  55-64   20.08     Campaign1    google   \n",
       "3    14-Aug-21    100218917  55-64    9.64     Campaign1    google   \n",
       "4    12-Aug-21    100218917  55-64   11.67     Campaign1    google   \n",
       "..         ...          ...    ...     ...           ...       ...   \n",
       "308  09-Jul-21    100218918  18-24   $3.50     Campaign2  facebook   \n",
       "309  13-Jul-21    100218918  45-54   $5.50     Campaign2  facebook   \n",
       "310  07-Jul-21    100218918    65+   $1.20     Campaign2  facebook   \n",
       "311  11-Jul-21    100218917  18-24   $7.00     Campaign1  facebook   \n",
       "312  20-Jul-21    100218917  35-44  $14.07     Campaign1  facebook   \n",
       "\n",
       "    impressions  clicks  \n",
       "0           154     2.0  \n",
       "1           133     0.0  \n",
       "2            60     1.0  \n",
       "3           184    39.0  \n",
       "4           219     7.0  \n",
       "..          ...     ...  \n",
       "308         121     7.0  \n",
       "309         154    16.0  \n",
       "310         133    98.0  \n",
       "311          60    40.0  \n",
       "312         184    11.0  \n",
       "\n",
       "[313 rows x 8 columns]>"
      ]
     },
     "execution_count": 104,
     "metadata": {},
     "output_type": "execute_result"
    }
   ],
   "source": [
    "final_data.drop_duplicates"
   ]
  },
  {
   "cell_type": "code",
   "execution_count": 105,
   "metadata": {},
   "outputs": [
    {
     "name": "stderr",
     "output_type": "stream",
     "text": [
      "/var/folders/d8/qtl1395d2898hys1hbkj3tc80000gn/T/ipykernel_11169/3440912081.py:1: FutureWarning: The default value of regex will change from True to False in a future version. In addition, single character regular expressions will *not* be treated as literal strings when regex=True.\n",
      "  final_data['Cost'] = final_data['Cost'].str.replace(',', '').str.replace('$', '').astype(float)\n"
     ]
    }
   ],
   "source": [
    "final_data['Cost'] = final_data['Cost'].str.replace(',', '').str.replace('$', '').astype(float)\n",
    "final_data.replace(',','', regex=True, inplace=True)\n"
   ]
  },
  {
   "cell_type": "markdown",
   "metadata": {},
   "source": [
    "Finally save the cleaned and transformed resultant dataset "
   ]
  },
  {
   "cell_type": "code",
   "execution_count": 106,
   "metadata": {},
   "outputs": [],
   "source": [
    "final_data.to_csv('cleaned_dataset/clean_campaign_data.csv',index_label='index')"
   ]
  },
  {
   "cell_type": "markdown",
   "metadata": {},
   "source": [
    "Which Campaign gained the highest clicks?\n"
   ]
  },
  {
   "cell_type": "code",
   "execution_count": 107,
   "metadata": {},
   "outputs": [],
   "source": [
    "c1 = final_data[final_data.campaign_name == 'Campaign1']\n",
    "c2 = final_data[final_data.campaign_name == 'Campaign2']"
   ]
  },
  {
   "cell_type": "code",
   "execution_count": 108,
   "metadata": {},
   "outputs": [
    {
     "name": "stdout",
     "output_type": "stream",
     "text": [
      "Campaign 1 gains the highest number of clicks with :2819.0\n"
     ]
    }
   ],
   "source": [
    "cs1 = c1.clicks.sum()\n",
    "cs2 = c2.clicks.sum()\n",
    "if cs1 > cs2:\n",
    "    print(f'Campaign 1 gains the highest number of clicks with :{cs1}')\n",
    "else:\n",
    "    print(f'Campaign 2 gains the highest number of clicks with :{cs2}')"
   ]
  },
  {
   "cell_type": "markdown",
   "metadata": {},
   "source": [
    "Which platform cost the most?"
   ]
  },
  {
   "cell_type": "code",
   "execution_count": 109,
   "metadata": {},
   "outputs": [
    {
     "name": "stdout",
     "output_type": "stream",
     "text": [
      "Platform 2 [Facebook] cost the more  :1895.3799999999997\n"
     ]
    }
   ],
   "source": [
    "p1 = final_data[final_data.platform == 'google']\n",
    "p2 = final_data[final_data.platform == 'facebook']\n",
    "p1 = p1.Cost.sum()\n",
    "p2 = p2.Cost.sum()\n",
    "if p1 > p2:\n",
    "    print(f'Platform 1 [Google] cost the more  :{p1}')\n",
    "else:\n",
    "    print(f'Platform 2 [Facebook] cost the more  :{p2}')"
   ]
  },
  {
   "cell_type": "markdown",
   "metadata": {},
   "source": [
    "Which Age Group should the client target in their next campaign, think clicks, CPC\n",
    "(cost per click)?"
   ]
  },
  {
   "cell_type": "code",
   "execution_count": 127,
   "metadata": {},
   "outputs": [],
   "source": [
    "agegroup = final_data.groupby(['age']).sum()"
   ]
  },
  {
   "cell_type": "code",
   "execution_count": 133,
   "metadata": {},
   "outputs": [],
   "source": [
    "agegroup['CPC'] = agegroup.apply(lambda row: row['Cost'] / row['clicks'], axis=1).round(decimals=2)"
   ]
  },
  {
   "cell_type": "code",
   "execution_count": 134,
   "metadata": {},
   "outputs": [
    {
     "data": {
      "text/html": [
       "<div>\n",
       "<style scoped>\n",
       "    .dataframe tbody tr th:only-of-type {\n",
       "        vertical-align: middle;\n",
       "    }\n",
       "\n",
       "    .dataframe tbody tr th {\n",
       "        vertical-align: top;\n",
       "    }\n",
       "\n",
       "    .dataframe thead th {\n",
       "        text-align: right;\n",
       "    }\n",
       "</style>\n",
       "<table border=\"1\" class=\"dataframe\">\n",
       "  <thead>\n",
       "    <tr style=\"text-align: right;\">\n",
       "      <th></th>\n",
       "      <th>campaign_id</th>\n",
       "      <th>Cost</th>\n",
       "      <th>clicks</th>\n",
       "      <th>CPC</th>\n",
       "    </tr>\n",
       "    <tr>\n",
       "      <th>age</th>\n",
       "      <th></th>\n",
       "      <th></th>\n",
       "      <th></th>\n",
       "      <th></th>\n",
       "    </tr>\n",
       "  </thead>\n",
       "  <tbody>\n",
       "    <tr>\n",
       "      <th>18-24</th>\n",
       "      <td>4710289118</td>\n",
       "      <td>567.92</td>\n",
       "      <td>983.0</td>\n",
       "      <td>0.58</td>\n",
       "    </tr>\n",
       "    <tr>\n",
       "      <th>25-34</th>\n",
       "      <td>10322548518</td>\n",
       "      <td>949.74</td>\n",
       "      <td>1347.0</td>\n",
       "      <td>0.71</td>\n",
       "    </tr>\n",
       "    <tr>\n",
       "      <th>35-44</th>\n",
       "      <td>4610070196</td>\n",
       "      <td>608.99</td>\n",
       "      <td>688.0</td>\n",
       "      <td>0.89</td>\n",
       "    </tr>\n",
       "    <tr>\n",
       "      <th>45-54</th>\n",
       "      <td>5411821539</td>\n",
       "      <td>598.38</td>\n",
       "      <td>816.0</td>\n",
       "      <td>0.73</td>\n",
       "    </tr>\n",
       "    <tr>\n",
       "      <th>55-64</th>\n",
       "      <td>3407443194</td>\n",
       "      <td>375.87</td>\n",
       "      <td>443.0</td>\n",
       "      <td>0.85</td>\n",
       "    </tr>\n",
       "    <tr>\n",
       "      <th>65+</th>\n",
       "      <td>2906348607</td>\n",
       "      <td>440.03</td>\n",
       "      <td>557.0</td>\n",
       "      <td>0.79</td>\n",
       "    </tr>\n",
       "  </tbody>\n",
       "</table>\n",
       "</div>"
      ],
      "text/plain": [
       "       campaign_id    Cost  clicks   CPC\n",
       "age                                     \n",
       "18-24   4710289118  567.92   983.0  0.58\n",
       "25-34  10322548518  949.74  1347.0  0.71\n",
       "35-44   4610070196  608.99   688.0  0.89\n",
       "45-54   5411821539  598.38   816.0  0.73\n",
       "55-64   3407443194  375.87   443.0  0.85\n",
       "65+     2906348607  440.03   557.0  0.79"
      ]
     },
     "execution_count": 134,
     "metadata": {},
     "output_type": "execute_result"
    }
   ],
   "source": [
    "agegroup"
   ]
  },
  {
   "cell_type": "markdown",
   "metadata": {},
   "source": [
    "The Cost per click for age Group 18-24 is the lease. So, the coumpany should target and invest more for people in age group 18 - 24 "
   ]
  },
  {
   "cell_type": "code",
   "execution_count": null,
   "metadata": {},
   "outputs": [],
   "source": []
  },
  {
   "cell_type": "code",
   "execution_count": null,
   "metadata": {},
   "outputs": [],
   "source": []
  }
 ],
 "metadata": {
  "interpreter": {
   "hash": "3d597f4c481aa0f25dceb95d2a0067e73c0966dcbd003d741d821a7208527ecf"
  },
  "kernelspec": {
   "display_name": "Python 3.9.7 ('base')",
   "language": "python",
   "name": "python3"
  },
  "language_info": {
   "codemirror_mode": {
    "name": "ipython",
    "version": 3
   },
   "file_extension": ".py",
   "mimetype": "text/x-python",
   "name": "python",
   "nbconvert_exporter": "python",
   "pygments_lexer": "ipython3",
   "version": "3.9.7"
  },
  "orig_nbformat": 4
 },
 "nbformat": 4,
 "nbformat_minor": 2
}
